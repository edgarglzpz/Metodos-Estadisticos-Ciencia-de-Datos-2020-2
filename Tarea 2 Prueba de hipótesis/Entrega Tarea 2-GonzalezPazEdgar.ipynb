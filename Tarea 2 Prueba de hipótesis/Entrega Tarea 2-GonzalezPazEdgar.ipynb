{
 "cells": [
  {
   "cell_type": "markdown",
   "metadata": {},
   "source": [
    "# Métodos estadísticos\n",
    "\n",
    "## Tarea 2\n",
    "\n",
    "### González Paz Edgar\n",
    "\n",
    "#### Considere una muestra aleatoria $X_{1}, ..., X_{n}$ con función de densidad que proviene de una $\\textit{Normal}(μ, σ^{2})$, ambos parámetros desconocidos, se sabe que $\\bar{X} ∼ N(μ, \\frac{σ^{2}}{n})$ y $\\frac{(n−1)S^{2}}{σ^{2}} ∼ \\chi_{n -1}^{2}$ y además son independientes.\n",
    "## 1. Construya una prueba de hipótesis para el contraste $H_{0} : μ = 0$ vs $H_{1}: μ \\neq 0$ de tamaño $α=0.05$."
   ]
  },
  {
   "cell_type": "markdown",
   "metadata": {},
   "source": [
    "La función de densidad de una $N(\\mu, \\sigma^{2})$.\n",
    "\n",
    "\\begin{equation}\n",
    "f(x | \\mu, \\sigma^{2}))= \\frac{1}{\\sqrt{2\\pi\\sigma^{2}}} \\exp \\left( \\frac{-(x-\\mu)^{2}}{2\\sigma^{2}} \\right)\n",
    "\\end{equation}\n",
    "\n",
    "La función de verosimiltud es\n",
    "\n",
    "\\begin{equation}\n",
    "L(\\mu, \\sigma^{2} | \\mathrm{X}) = \\prod_{i=1}^{n} \\frac{1}{\\sqrt{2\\pi\\sigma^{2}}} \\exp \\left( \\frac{-(x_{i}-\\mu)^{2}}{2\\sigma^{2}} \\right)\\mathbb{1}_{\\{x_{i} \\in \\mathbb{R}\\}} = \n",
    "\\\\\n",
    "\\left(\\ \\frac{1}{\\sqrt{2\\pi\\sigma^{2}}} \\right)^{n} \\exp \\left( -\\frac{1}{2\\sigma^{2}} \\displaystyle \\sum_{i=1}^{n} (x_{i}-\\mu)^{2} \\right)\n",
    "\\end{equation}\n",
    "\n",
    "Sea $\\theta = (\\mu,\\sigma^{2})$ y el estadístico del cociente de verosimilitud es de la siguiente manera:\n",
    "\n",
    "\\begin{equation}\n",
    "\\lambda(\\mathrm{X}) = \\frac{sup_{\\theta \\in \\Theta_{0}} L(\\theta | \\mathrm{X})}{sup_{\\theta \\in \\Theta} L(\\theta | \\mathrm{X})}\n",
    "\\end{equation} \n",
    "\n",
    "donde el espacio paramétrico de $\\theta$ es $ \\Theta = \\{ \\mu, \\sigma^{2} | -\\infty < \\mu < \\infty, \\sigma^{2}>0 \\} $. El subconjunto de la hipótesis nula es $ \\Theta_{0} = \\{ \\mu, \\sigma^{2} | \\mu = 0, \\sigma^{2}>0 \\} $ y para la hipótesis alternativa es $ \\Theta_{1} = \\{ \\mu, \\sigma^{2} | \\mu \\neq 0, \\sigma^{2}>0 \\} $. \n",
    "\n",
    "Recordemos que \n",
    "\n",
    "\\begin{equation}\n",
    "\\sigma_{MLE}^{2} = \\frac{1}{n} \\sum_{i=1}^{n} (x_{i} - \\bar{\\mu})^{2}\n",
    "\\end{equation}\n",
    "\n",
    "Para el numerador tomamos a $\\mu=0$, ahora bien, $\\sigma_{0}^{2}$ se vería de la siguiente manera:\n",
    "\n",
    "\\begin{equation}\n",
    "\\sigma_{0}^{2} = \\frac{1}{n} \\sum_{i=1}^{n} (x_{i} - \\mu_{0})^{2} = \\frac{1}{n} \\sum_{i=1}^{n} (x_{i} - 0)^{2} = \\frac{1}{n} \\sum_{i=1}^{n} x_{i}^{2}\n",
    "\\end{equation}\n",
    "\n",
    "Entonces \n",
    "\n",
    "\\begin{equation}\n",
    "\\sup_{\\theta \\in \\Theta_{0}} L(\\theta | \\mathrm{X}) = \\left( \\frac{1}{\\sqrt{2\\pi\\sigma_{0}^{2}}} \\right)^{n} \\exp \\left( -\\frac{1}{2\\sigma_{0}^{2}}  \\sum_{i=1}^{n} x_{i}^{2} \\right) = \n",
    "\\\\\n",
    "\\left( 2\\pi\\sigma_{0}^{2} \\right)^{-\\frac{n}{2}} \\exp \\left( -\\frac{n}{2} \\right)  \n",
    "\\\\\n",
    "\\Rightarrow \\sup_{\\theta \\in \\Theta_{0}} L(\\theta | \\mathrm{X}) = \\left( 2\\pi\\sigma_{0}^{2} \\right)^{-\\frac{n}{2}} \\exp \\left( -\\frac{n}{2} \\right)  \n",
    "\\end{equation}\n",
    "\n",
    "Para $sup_{\\theta \\in \\Theta} L(\\theta | \\mathrm{X})$, por el método de máxima verosimilitud, los estimadores de máxima verosimilitud $\\hat{\\mu}_{MLE}$ y $\\hat{\\sigma}_{MLE}$ son de la siguiente forma:\n",
    "\\begin{equation}\n",
    "\\hat{\\mu}_{MLE} = \\frac{1}{n} \\sum_{i=1}^{n} x_{i} = \\bar{X} \n",
    "\\\\\n",
    "\\hat{\\sigma}_{MLE} = \\frac{1}{n} \\sum_{i=1}^{n} \\left( x_{i} - \\hat{\\mu}_{MLE} \\right) ^{2} = \\frac{1}{n} \\sum_{i=1}^{n} \\left( x_{i} - \\bar{X} \\right) ^{2}\n",
    "\\end{equation}\n",
    "\n",
    "\\begin{equation}\n",
    "\\sup_{\\theta \\in \\Theta} L(\\theta | \\mathrm{X}) = \\left( 2\\pi \\hat{\\sigma_{MLE}} \\right)^{-\\frac{n}{2}} \\exp \\left( -\\frac{1}{2\\hat{\\sigma_{MLE}}} \\sum_{i=1}^{n} \\left( x_{i} - \\hat{\\mu}_{MLE} \\right) ^{2} \\right) = \n",
    "\\\\\n",
    "\\left( 2\\pi \\hat{\\sigma_{MLE}} \\right)^{-\\frac{n}{2}} \\exp \\left( -\\frac{n}{2} \\right)\n",
    "\\\\\n",
    "\\Rightarrow \\sup_{\\theta \\in \\Theta} L(\\theta | \\mathrm{X}) = \\left( 2\\pi \\hat{\\sigma_{MLE}} \\right)^{-\\frac{n}{2}} \\exp \\left( -\\frac{n}{2} \\right)\n",
    "\\end{equation}\n",
    "\n",
    "El estadístico $\\lambda(\\mathrm{X})$ \n",
    "\n",
    "\\begin{equation}\n",
    "\\lambda(\\mathrm{X}) = \\frac{\\sup_{\\theta \\in \\Theta_{0}} L(\\theta | \\mathrm{X})}{\\sup_{\\theta \\in \\Theta} L(\\theta | \\mathrm{X})} = \\frac{ \\left( 2\\pi\\sigma_{0}^{2} \\right)^{-\\frac{n}{2}} \\exp \\left( -\\frac{n}{2} \\right) }{ \\left( 2\\pi \\hat{\\sigma_{MLE}} \\right)^{-\\frac{n}{2}} \\exp \\left( -\\frac{n}{2} \\right) } = \n",
    "\\\\\n",
    "\\left( \\frac{\\sigma_{0}^{2}}{\\hat{\\sigma_{MLE}}} \\right)^{-\\frac{n}{2}} = \\left( \\frac{\\hat{\\sigma_{MLE}} }{\\sigma_{0}^{2}} \\right)^{\\frac{n}{2}} = \\left( \\frac{ \\sum_{i=1}^{n} \\left( x_{i} - \\bar{X} \\right) ^{2} }{ \\sum_{i=1}^{n} x_{i}^{2}} \\right)^{\\frac{n}{2}}\n",
    "\\end{equation}\n",
    "\n",
    "La región de rechazo es la siguiente:\n",
    "\n",
    "\\begin{equation}\n",
    "RR = \\left\\{ \\mathrm{X} \\mathrel{}\\middle|\\mathrel{} \\left( \\frac{ \\sum_{i=1}^{n} \\left( x_{i} - \\bar{X} \\right) ^{2} }{ \\sum_{i=1}^{n} x_{i}^{2}} \\right)^{\\frac{n}{2}} \\leq c \\right\\}\n",
    "\\end{equation}\n",
    "\n",
    "Por una parte, sabemos que $ \\sigma_{0}^{2} = \\sum_{i=1}^{n} x_{i}^{2} = \\sum_{i=1}^{n} \\left( x_{i} - \\bar{X} \\right)^{2}  + n \\bar{X}^{2}$\n",
    "\n",
    "\\begin{equation}\n",
    "\\left( \\frac{ \\sum_{i=1}^{n} \\left( x_{i} - \\bar{X} \\right) ^{2} }{ \\sum_{i=1}^{n} x_{i}^{2}} \\right)^{\\frac{n}{2}} \\leq c\n",
    "\\\\\n",
    "\\Rightarrow \\frac{\\sum_{i=1}^{n} \\left( x_{i} - \\bar{X} \\right) ^{2}}{\\sum_{i=1}^{n} \\left( x_{i} - \\bar{X} \\right)^{2}  + n \\bar{X}^{2}} \\leq c^{\\frac{2}{n}}\n",
    "\\\\\n",
    "\\Rightarrow \\frac{1}{1 + \\frac{n\\bar{X}^{2}}{\\sum_{i=1}^{n} \\left( x_{i} - \\bar{X} \\right)^{2}}} \\leq c^{\\frac{2}{n}}\n",
    "\\\\\n",
    "Sea \\hspace{0.1cm} c_{1}=c^{\\frac{2}{n}},\n",
    "\\\\\n",
    "\\Rightarrow \\frac{1}{c_{1}} \\leq 1 + \\frac{n\\bar{X}^{2}}{\\sum_{i=1}^{n} \\left( x_{i} - \\bar{X} \\right)^{2}}\n",
    "\\\\\n",
    "\\Rightarrow \\frac{1}{c_{1}} -1 \\leq \\frac{n\\bar{X}^{2}}{\\sum_{i=1}^{n} \\left( x_{i} - \\bar{X} \\right)^{2}}\n",
    "\\\\\n",
    "Sea \\hspace{0.1cm} c_{2}= \\frac{1}{c_{1}} -1\n",
    "\\\\\n",
    "\\Rightarrow c_{2} \\leq \\frac{ (\\frac{1}{n-1}) n\\bar{X}^{2} }{(\\frac{1}{n-1}) \\sum_{i=1}^{n} \\left( x_{i} - \\bar{X} \\right)^{2}} = \\frac{(\\frac{1}{n-1} n\\bar{X}^{2})}{S^{2}}\n",
    "\\\\\n",
    "\\Rightarrow (n-1)c_{2} \\leq \\frac{n\\bar{X}^{2}}{S^{2}}\n",
    "\\\\\n",
    "\\Rightarrow (n-1)c_{2} \\leq  \\frac{\\sqrt{n}\\bar{X}}{S} ^{2}\n",
    "\\\\\n",
    "\\Rightarrow \\sqrt((n-1)c_{2}) \\leq \\sqrt{(\\frac{\\sqrt{n}\\bar{X}}{S})^{2}}\n",
    "\\\\\n",
    "Sea \\hspace{0.1cm} \\sqrt{(n-1)c_{2}} = k\n",
    "\\\\\n",
    "\\Rightarrow k \\leq \\sqrt{(\\frac{\\sqrt{n}\\bar{X}}{S})^{2}}\n",
    "\\\\\n",
    "\\Rightarrow k \\leq \\left| \\frac{\\sqrt{n}\\bar{X}}{S} \\right|\n",
    "\\end{equation}\n",
    "\n",
    "\n",
    "Y entonces,\n",
    "\n",
    "\\begin{equation}\n",
    "RR = \\left\\{ \\mathrm{X} \\mathrel{}\\middle|\\mathrel{} \\left| \\frac{\\sqrt{n}\\bar{X}}{S} \\right| \\geq k \\right\\}\n",
    "\\end{equation}\n",
    "\n",
    "Ahora bien, reescribimos:\n",
    "\\begin{equation}\n",
    "\\frac{\\sqrt{n}\\bar{X}}{S} = \\frac{\\bar{X}-0}{\\sqrt{\\frac{S^{2}}{n}}} = \\frac{\\bar{X}- \\mu}{\\sqrt{\\frac{S^{2}}{n}}}\n",
    "\\end{equation}\n",
    "\n",
    "Sea $T = \\frac{\\sqrt{n}\\bar{X}}{S}$, entonces $ T \\sim t_{n-1} $ y la Región de Rechazo se ve de la manera:\n",
    "\n",
    "\\begin{equation}\n",
    "RR = \\left\\{ \\mathrm{X} \\mathrel{}\\middle|\\mathrel{} \\left| T \\right| \\geq k \\right\\} para \\hspace{0.1cm} algún \\hspace{0.1cm} k \\in \\mathbb{R}\n",
    "\\end{equation}\n",
    "\n",
    "Buscamos $\\mathbb{P} \\left( Error \\hspace{0.1cm} tipo \\hspace{0.1cm} I\\right) = \\mathbb{P} \\left( \\mathrm{X} \\in RR | \\theta \\in \\Theta_{0} \\right) = \\alpha$\n",
    "\n",
    "\\begin{equation}\n",
    "\\mathbb{P} \\left( Error \\hspace{0.1cm} tipo \\hspace{0.1cm} I | \\mu = 0 \\right) =\n",
    "\\mathbb{P} \\left( |T| \\geq k | \\mu = 0  \\right) = \n",
    "\\\\\n",
    "|| \\hspace{0.1cm} Simétrica \\hspace{0.1cm} en \\hspace{0.1cm} el \\hspace{0.1cm} origen \\hspace{0.1cm} || = \n",
    "2\\mathbb{P} \\left( T \\geq k | \\mu = 0  \\right) = \\alpha\n",
    "\\\\\n",
    "\\Rightarrow \\mathbb{P} \\left( T \\geq k | \\mu = 0 \\right) = \\frac{\\alpha}{2}\n",
    "\\end{equation}\n",
    "\n",
    "Sabemos que $ T \\sim t_{n-1} $ entonces tomamos a $k = t_{n-1, 1-\\frac{\\alpha}{2}}$\n",
    "\n",
    "\\begin{equation}\n",
    "\\Rightarrow \\mathbb{P} \\left( |T| \\geq k \\right) =\n",
    "\\mathbb{P} \\left(  |T| \\geq t_{n-1, 1-\\frac{\\alpha}{2}} \\right) = \n",
    "\\alpha\n",
    "\\end{equation}\n",
    "\n",
    "La región de rechazo es:\n",
    "\\begin{equation}\n",
    "RR = \\left\\{ \\mathrm{X} \\mathrel{}\\middle|\\mathrel{} t_{n-1,1-\\frac{\\alpha}{2}} < |T| \\right\\}\n",
    "\\end{equation}\n",
    "\n",
    "Encontrando el valor de $t_{n-1,1-\\frac{\\alpha}{2}}$ con $\\alpha = 0.05$ y $n=25$ en valores de tablas o evaluando el valor en la inversa de la función de distribución. El valor es 2.0638.\n",
    "\n",
    "Entonces la región de rechazo es de la forma:\n",
    "\\begin{equation}\n",
    "RR = \\left\\{ \\mathrm{X} \\mathrel{}\\middle|\\mathrel{} 2.0638 < |T| \\right\\}\n",
    "\\end{equation}\n",
    "\n",
    "\n",
    "\n",
    "Para el p-value, supongamos que se rechaza bajo la muestra observada, es decir, \n",
    "\n",
    "\\begin{equation}\n",
    "\\left\\{ \\mathrm{X} \\mathrel{}\\middle|\\mathrel{} 3.2958 < |T|\\right\\}\n",
    "\\end{equation}\n",
    "\n",
    "Consideramos que bajo la m.a.o., $T=3.2958$.\n",
    "\n",
    "\\begin{equation}\n",
    "\\Rightarrow \\mathbb{P} \\left( 3.2958 < |T| \\right) =  || Simetría || = \n",
    "2 \\mathbb{P} \\left( 3.2958 < T \\right) = \n",
    "\\\\\n",
    "2 (1- \\mathbb{P} \\left( T < 3.2958 \\right) ) = p-value\n",
    "\\\\\n",
    "T \\sim t_{24}\n",
    "\\end{equation}"
   ]
  },
  {
   "cell_type": "markdown",
   "metadata": {},
   "source": [
    "## 2. Con ayuda de la muestra aleatoria observada, data2Ej4.txt , diga si se rechaza o no se rechaza la hipótesis nula y calcule el p-value."
   ]
  },
  {
   "cell_type": "code",
   "execution_count": 1,
   "metadata": {},
   "outputs": [],
   "source": [
    "#Librerías para las distribuciones de la t-student, ji-cuadrada y la t-student no centrada\n",
    "from scipy.stats import t, chi2, nct"
   ]
  },
  {
   "cell_type": "code",
   "execution_count": 2,
   "metadata": {},
   "outputs": [],
   "source": [
    "#Cargamos la m.a.o.\n",
    "import pandas as pd\n",
    "datos_4 = pd.read_csv('data2Ej4.txt')"
   ]
  },
  {
   "cell_type": "code",
   "execution_count": 3,
   "metadata": {},
   "outputs": [
    {
     "data": {
      "text/html": [
       "<div>\n",
       "<style scoped>\n",
       "    .dataframe tbody tr th:only-of-type {\n",
       "        vertical-align: middle;\n",
       "    }\n",
       "\n",
       "    .dataframe tbody tr th {\n",
       "        vertical-align: top;\n",
       "    }\n",
       "\n",
       "    .dataframe thead th {\n",
       "        text-align: right;\n",
       "    }\n",
       "</style>\n",
       "<table border=\"1\" class=\"dataframe\">\n",
       "  <thead>\n",
       "    <tr style=\"text-align: right;\">\n",
       "      <th></th>\n",
       "      <th>x</th>\n",
       "    </tr>\n",
       "  </thead>\n",
       "  <tbody>\n",
       "    <tr>\n",
       "      <th>0</th>\n",
       "      <td>1.708724</td>\n",
       "    </tr>\n",
       "    <tr>\n",
       "      <th>1</th>\n",
       "      <td>0.769615</td>\n",
       "    </tr>\n",
       "    <tr>\n",
       "      <th>2</th>\n",
       "      <td>-1.260394</td>\n",
       "    </tr>\n",
       "    <tr>\n",
       "      <th>3</th>\n",
       "      <td>1.742702</td>\n",
       "    </tr>\n",
       "    <tr>\n",
       "      <th>4</th>\n",
       "      <td>2.300945</td>\n",
       "    </tr>\n",
       "  </tbody>\n",
       "</table>\n",
       "</div>"
      ],
      "text/plain": [
       "          x\n",
       "0  1.708724\n",
       "1  0.769615\n",
       "2 -1.260394\n",
       "3  1.742702\n",
       "4  2.300945"
      ]
     },
     "execution_count": 3,
     "metadata": {},
     "output_type": "execute_result"
    }
   ],
   "source": [
    "datos_4.head()"
   ]
  },
  {
   "cell_type": "code",
   "execution_count": 4,
   "metadata": {},
   "outputs": [
    {
     "data": {
      "text/plain": [
       "(25, 1)"
      ]
     },
     "execution_count": 4,
     "metadata": {},
     "output_type": "execute_result"
    }
   ],
   "source": [
    "datos_4.shape"
   ]
  },
  {
   "cell_type": "code",
   "execution_count": 5,
   "metadata": {},
   "outputs": [],
   "source": [
    "import numpy as np\n",
    "Muestra_Aleatoria_Observada = np.asarray(datos_4['x'].values.tolist())"
   ]
  },
  {
   "cell_type": "code",
   "execution_count": 6,
   "metadata": {},
   "outputs": [
    {
     "data": {
      "text/plain": [
       "array([ 1.70872406,  0.76961521, -1.26039356,  1.74270239,  2.30094473,\n",
       "        0.05077468,  1.35129325,  0.20134414,  0.26227203, -0.42621713,\n",
       "        0.81476031,  0.72918117, -0.15321172,  0.91067085, -0.39005322,\n",
       "        0.72655107,  0.15187769,  0.3779972 ,  2.7231732 ,  1.73695479,\n",
       "        0.0895813 , -0.80422873, -0.39844238,  1.91218168,  1.58635116])"
      ]
     },
     "execution_count": 6,
     "metadata": {},
     "output_type": "execute_result"
    }
   ],
   "source": [
    "#M.a.o.\n",
    "Muestra_Aleatoria_Observada"
   ]
  },
  {
   "cell_type": "code",
   "execution_count": 7,
   "metadata": {},
   "outputs": [],
   "source": [
    "def MediaMuestral(x):\n",
    "    n = len(x)\n",
    "    y = (1/n)*sum(x)\n",
    "    return y"
   ]
  },
  {
   "cell_type": "code",
   "execution_count": 8,
   "metadata": {},
   "outputs": [],
   "source": [
    "def Cuasivarianza(x):\n",
    "    n = len(x)\n",
    "    y = (1/(n-1))*sum((x[i]- MediaMuestral(x))**2 for i in range(n))\n",
    "    return y"
   ]
  },
  {
   "cell_type": "code",
   "execution_count": 9,
   "metadata": {},
   "outputs": [],
   "source": [
    "def Sigma_MLE(x):\n",
    "    n = len(x)\n",
    "    y = (1/(n))*(sum((x[i] - MediaMuestral(x))**2 for i in range(n)))\n",
    "    return y"
   ]
  },
  {
   "cell_type": "code",
   "execution_count": 10,
   "metadata": {},
   "outputs": [],
   "source": [
    "def T(x, media_hipnul):\n",
    "    n = len(x)\n",
    "    y = (MediaMuestral(x) - media_hipnul)/(np.sqrt(Cuasivarianza(x)/n))\n",
    "    return y"
   ]
  },
  {
   "cell_type": "code",
   "execution_count": 11,
   "metadata": {},
   "outputs": [
    {
     "data": {
      "text/plain": [
       "3.295825419112768"
      ]
     },
     "execution_count": 11,
     "metadata": {},
     "output_type": "execute_result"
    }
   ],
   "source": [
    "T(Muestra_Aleatoria_Observada, media_hipnul=0)"
   ]
  },
  {
   "cell_type": "code",
   "execution_count": 14,
   "metadata": {},
   "outputs": [],
   "source": [
    "def PruebaHipotesis(MA, MHP, alpha):    \n",
    "    Estadistico_T = T(x=MA, media_hipnul=MHP)\n",
    "    n = len(MA)\n",
    "    MM_MA = MediaMuestral(MA)\n",
    "    Cuasivarianza_MA =Cuasivarianza(MA)\n",
    "    #Es la cota de la región de rechazo\n",
    "    cota_decision = t.ppf(1-(alpha/2), df= n-1)\n",
    "    \n",
    "    print('La muestra observada es: '+str(MA)+'\\n')\n",
    "    print('El tamaño de la muestra es: '+str(n))\n",
    "    print('La media muestral es: '+str(MM_MA))\n",
    "    print('La cuasivarianza es: '+str(Cuasivarianza_MA))\n",
    "    print('El valor del estadístico T es: '+str(Estadistico_T))\n",
    "    print('La cota de decisión es: '+str(cota_decision)+'\\n')\n",
    "    \n",
    "    decision = abs(Estadistico_T) > cota_decision\n",
    "\n",
    "    if decision == 1:\n",
    "        print('El estadístico en valor absoluto T='+str(Estadistico_T)+' es mayor al valor '+str(cota_decision)+', por lo tanto se rechaza la hipótesis nula.')\n",
    "    else:\n",
    "        print('El estadístico en valor absoluto T='+str(Estadistico_T)+' es menor al valor '+str(cota_decision)+', por lo tanto no se rechaza la hipótesis nula.')\n",
    "    \n",
    "    p_value = 2*(1-t.cdf(Estadistico_T, df=24)) \n",
    "    \n",
    "    decision_2 = p_value > alpha\n",
    "    \n",
    "    if decision_2 == True:\n",
    "        print('El valor del p-value: '+str(p_value)+' es mayor al valor '+str(alpha)+', por lo tanto no se rechaza la hipótesis nula.')\n",
    "    if decision_2 == False:\n",
    "        print('El valor del p-value: '+str(p_value)+' es menor al valor '+str(alpha)+', por lo tanto se rechaza la hipótesis nula.')"
   ]
  },
  {
   "cell_type": "code",
   "execution_count": 15,
   "metadata": {},
   "outputs": [
    {
     "name": "stdout",
     "output_type": "stream",
     "text": [
      "La muestra observada es: [ 1.70872406  0.76961521 -1.26039356  1.74270239  2.30094473  0.05077468\n",
      "  1.35129325  0.20134414  0.26227203 -0.42621713  0.81476031  0.72918117\n",
      " -0.15321172  0.91067085 -0.39005322  0.72655107  0.15187769  0.3779972\n",
      "  2.7231732   1.73695479  0.0895813  -0.80422873 -0.39844238  1.91218168\n",
      "  1.58635116]\n",
      "\n",
      "El tamaño de la muestra es: 25\n",
      "La media muestral es: 0.6685761668633025\n",
      "La cuasivarianza es: 1.0287583963320184\n",
      "El valor del estadístico T es: 3.295825419112768\n",
      "La cota de decisión es: 2.0638985616280205\n",
      "\n",
      "El estadístico en valor absoluto T=3.295825419112768 es mayor al valor 2.0638985616280205, por lo tanto se rechaza la hipótesis nula.\n",
      "El valor del p-value: 0.0030427364777887433 es menor al valor 0.05, por lo tanto se rechaza la hipótesis nula.\n"
     ]
    }
   ],
   "source": [
    "PruebaHipotesis(MA=Muestra_Aleatoria_Observada, MHP=0, alpha=0.05)"
   ]
  },
  {
   "cell_type": "markdown",
   "metadata": {},
   "source": [
    "## 4. Encontrar un intervalo de confianza"
   ]
  },
  {
   "cell_type": "markdown",
   "metadata": {},
   "source": [
    "Para el intervalo de confianza, definimos la región de no rechazo:  $A(\\theta_{0}) = \\left\\{ \\mathrm{X} \\mathrel{}\\middle|\\mathrel{} t_{n-1; \\frac{\\alpha}{2}} < T < t_{n-1; 1-\\frac{\\alpha}{2}} \\right\\} $\n",
    "\n",
    "Sea el conjunto aleatorio $ C(\\mathrm{X}) = \\left\\{ \\theta_{0} \\in \\Theta \\mathrel{}\\middle|\\mathrel{} \\mathrm{X} \\in A(\\theta_{0}) \\right\\}$\n",
    "Entonces\n",
    "\\begin{equation}\n",
    "C(\\mathrm{X}) = \n",
    "\\left\\{ \\mu_{0} \\mathrel{}\\middle|\\mathrel{}  t_{n-1; \\frac{\\alpha}{2}} < T < t_{n-1; 1-\\frac{\\alpha}{2}} \\right\\} = \n",
    "\\\\\n",
    "\\left\\{ \\mu_{0} \\mathrel{}\\middle|\\mathrel{}  t_{n-1; \\frac{\\alpha}{2}} < \\frac{\\sqrt{n}(\\bar{X}-\\mu_{0})}{S} < t_{n-1; 1-\\frac{\\alpha}{2}} \\right\\} =\n",
    "\\\\\n",
    "|| \\hspace{0.1cm} t_{n-1; \\frac{\\alpha}{2}} = -t_{n-1; 1-\\frac{\\alpha}{2}} \\hspace{0.1cm} || = \n",
    "\\left\\{ \\mu_{0} \\mathrel{}\\middle|\\mathrel{}  -t_{n-1; 1-\\frac{\\alpha}{2}} < \\frac{\\sqrt{n}(\\bar{X}-\\mu_{0})}{S} < t_{n-1; 1-\\frac{\\alpha}{2}} \\right\\} = \n",
    "\\\\\n",
    "\\left\\{ \\mu_{0} \\mathrel{}\\middle|\\mathrel{}  -t_{n-1; 1-\\frac{\\alpha}{2}} \\frac{S}{\\sqrt{n}}< \\bar{X}-\\mu_{0} < t_{n-1; 1-\\frac{\\alpha}{2}}\\frac{S}{\\sqrt{n}} \\right\\} = \n",
    "\\\\\n",
    "\\left\\{ \\mu_{0} \\mathrel{}\\middle|\\mathrel{}  -t_{n-1; 1-\\frac{\\alpha}{2}} \\frac{S}{\\sqrt{n}} -\\bar{X}< -\\mu_{0} < t_{n-1; 1-\\frac{\\alpha}{2}}\\frac{S}{\\sqrt{n}} -\\bar{X}\\right\\} = \n",
    "\\\\\n",
    "\\left\\{ \\mu_{0} \\mathrel{}\\middle|\\mathrel{} \\bar{X} - t_{n-1; 1-\\frac{\\alpha}{2}}\\frac{S}{\\sqrt{n}}< \\mu_{0} < \\bar{X} + t_{n-1; 1-\\frac{\\alpha}{2}} \\frac{S}{\\sqrt{n}}\\right\\}\n",
    "\\end{equation}\n",
    "\n",
    "\n",
    "$\\Rightarrow \\left( \\bar{X} - t_{n-1; 1-\\frac{\\alpha}{2}}\\frac{S}{\\sqrt{n}},  \\bar{X} + t_{n-1; 1-\\frac{\\alpha}{2}} \\frac{S}{\\sqrt{n}} \\right)$ es un intervalo de confianza para $\\mu_{0}$."
   ]
  },
  {
   "cell_type": "code",
   "execution_count": 14,
   "metadata": {},
   "outputs": [],
   "source": [
    "def Intervalo_de_Confianza(Muestra_Aleatoria_Observada, alpha):\n",
    "    n = len(Muestra_Aleatoria_Observada)\n",
    "    MM_MA = MediaMuestral(Muestra_Aleatoria_Observada)\n",
    "    Cuasivarianza_MA =Cuasivarianza(Muestra_Aleatoria_Observada)\n",
    "    \n",
    "    Intervalo_confianza_media = []\n",
    "    Intervalo_confianza_media.append(MM_MA - (t.ppf(1-(alpha/2), df= 24)*(np.sqrt(Cuasivarianza_MA/n))))\n",
    "    Intervalo_confianza_media.append(MM_MA + (t.ppf(1-(alpha/2), df= 24)*(np.sqrt(Cuasivarianza_MA/n))))\n",
    "    \n",
    "    print('El intervalo de confianza para la media es: '+str(Intervalo_confianza_media))"
   ]
  },
  {
   "cell_type": "code",
   "execution_count": 15,
   "metadata": {},
   "outputs": [
    {
     "name": "stdout",
     "output_type": "stream",
     "text": [
      "El intervalo de confianza para la media es: [0.24990308390024746, 1.0872492498263575]\n"
     ]
    }
   ],
   "source": [
    "Intervalo_de_Confianza(Muestra_Aleatoria_Observada, alpha=0.05)"
   ]
  },
  {
   "cell_type": "markdown",
   "metadata": {},
   "source": [
    "# 3. Gráficar la función potencia de la prueba."
   ]
  },
  {
   "cell_type": "markdown",
   "metadata": {},
   "source": [
    "Para la función potencia:\n",
    "\\begin{equation}\n",
    "\\pi(\\theta) = \\mathbb{P} \\left( \\mathrm{X} \\in RR \\right) =\n",
    "\\\\\n",
    "\\mathbb{P} \\left( T \\in (-\\infty,-t_{n-1,1-\\frac{\\alpha}{2}}) \\cup (t_{n-1,1-\\frac{\\alpha}{2}}, \\infty) | \\mu = 0 \\right) = \n",
    "\\\\\n",
    "1 - \\mathbb{P} \\left( T \\notin (-\\infty,-t_{n-1,1-\\frac{\\alpha}{2}}) \\cup (t_{n-1,1-\\frac{\\alpha}{2}}, \\infty) | \\mu = 0 \\right) = \\\\   \n",
    "1 - \\mathbb{P} \\left( T \\in (-t_{n-1,1-\\frac{\\alpha}{2}}, t_{n-1,1-\\frac{\\alpha}{2}}) | \\mu = 0 \\right) =\n",
    "\\\\\n",
    "1 - \\mathbb{P} \\left( -t_{n-1,1-\\frac{\\alpha}{2}} < \\frac{\\bar{X}}{\\sqrt{\\frac{S^{2}}{n}}} < t_{n-1,1-\\frac{\\alpha}{2}} | \\mu = 0 \\right) = \n",
    "\\\\\n",
    "1 - \\mathbb{P} \\left( -t_{n-1,1-\\frac{\\alpha}{2}} < \\frac{(\\bar{X}-\\mu)+\\mu}{\\sqrt{\\frac{S^{2}}{n}}} < t_{n-1,1-\\frac{\\alpha}{2}} | \\mu = 0 \\right) =\n",
    "\\\\\n",
    "1 - \\mathbb{P} \\left( -t_{n-1,1-\\frac{\\alpha}{2}} < \\frac{\\frac{(\\bar{X}-\\mu)}{\\sqrt{\\frac{\\sigma^{2}}{n}}}+\\frac{\\mu}{\\sqrt{\\frac{\\sigma^{2}}{n}}}}{\\frac{\\sqrt{\\frac{S^{2}}{n}}}{\\sqrt{\\frac{\\sigma^{2}}{n}}}} < t_{n-1,1-\\frac{\\alpha}{2}} | \\mu = 0 \\right)\n",
    "\\\\\n",
    "1 - \\mathbb{P} \\left( -t_{n-1,1-\\frac{\\alpha}{2}} < \\frac{\\frac{(\\bar{X}-\\mu)}{\\sqrt{\\frac{\\sigma^{2}}{n}}}+\\frac{\\mu}{\\sqrt{\\frac{\\sigma^{2}}{n}}}}{\\sqrt{ \\frac{\\frac{(n-1)S^{2}}{\\sigma^{2}}}{n-1} }} < t_{n-1,1-\\frac{\\alpha}{2}} | \\mu = 0 \\right)\n",
    "\\end{equation}\n",
    "\n",
    "$\\frac{\\bar{X}- \\mu}{\\sqrt{\\frac{\\sigma^{2}}{n}}} \\sim N(0,1)$, $\\frac{(n-1)S^{2}}{\\sigma^{2}} \\sim \\chi_{n -1}^{2}$.\n",
    "\n",
    "\n",
    "Entonces $W_{n-1} = \\frac{\\frac{(\\bar{X}-\\mu)}{\\sqrt{\\frac{\\sigma^{2}}{n}}}+\\frac{\\mu}{\\sqrt{\\frac{\\sigma^{2}}{n}}}}{\\frac{\\sqrt{\\frac{S^{2}}{n}}}{\\sqrt{\\frac{\\sigma^{2}}{n}}}} \\sim t_{n-1, \\frac{\\mu}{\\sqrt{\\frac{\\sigma^{2}}{n}}}}$, una T-student con n-1 grados de libertad y un parámetro de descentralización de $\\frac{\\mu}{\\sqrt{\\frac{\\sigma^{2}}{n}}}$\n",
    "\n",
    "\\begin{equation}\n",
    "\\Rightarrow \\pi(\\theta) = 1- \\mathbb{P} \\left( -t_{n-1,1-\\frac{\\alpha}{2}} < W_{n-1}< t_{n-1,1-\\frac{\\alpha}{2}}\\right) =\n",
    "\\\\\n",
    "1 - (F_{W_n-1}(t_{n-1,1-\\frac{\\alpha}{2}}) - F_{W_n-1}(-t_{n-1,1-\\frac{\\alpha}{2}} ))\n",
    "\\end{equation}"
   ]
  },
  {
   "cell_type": "code",
   "execution_count": 16,
   "metadata": {},
   "outputs": [],
   "source": [
    "import matplotlib.pyplot as plt\n",
    "%matplotlib inline"
   ]
  },
  {
   "cell_type": "code",
   "execution_count": 17,
   "metadata": {},
   "outputs": [],
   "source": [
    "def FuncionPotencia(Muestra_Aleatoria_Observada, med_hip_nul, alpha):\n",
    "    n = len(Muestra_Aleatoria_Observada)\n",
    "    def Sigma_MLE(x):\n",
    "        n = len(x)\n",
    "        y = (1/(n))*(sum((x[i] - MediaMuestral(x))**2 for i in range(n)))\n",
    "        return y\n",
    "    \n",
    "    z = t.ppf(1-(alpha/2), df= n -1)\n",
    "    \n",
    "    Dominio_mu=np.arange(med_hip_nul-2.5, med_hip_nul+2.5 ,0.01)\n",
    "    Rango_Funcion_Potencia = []\n",
    "    for i in range(len(Dominio_mu)):\n",
    "        Rango_Funcion_Potencia.append(1 - (nct.cdf(z, n-1, (Dominio_mu[i]/(np.sqrt(Sigma_MA/n)))) - nct.cdf(-z, n-1, (Dominio_mu[i]/(np.sqrt(Sigma_MA/n))))))\n",
    "    plt.plot(Dominio_mu, Rango_Funcion_Potencia)\n",
    "    plt.title('Función potencia')"
   ]
  },
  {
   "cell_type": "code",
   "execution_count": 18,
   "metadata": {},
   "outputs": [],
   "source": [
    "Sigma_MA = Sigma_MLE(Muestra_Aleatoria_Observada)"
   ]
  },
  {
   "cell_type": "code",
   "execution_count": 19,
   "metadata": {},
   "outputs": [
    {
     "data": {
      "image/png": "[encoded data removed]",
      "text/plain": [
       "<Figure size 432x288 with 1 Axes>"
      ]
     },
     "metadata": {
      "needs_background": "light"
     },
     "output_type": "display_data"
    }
   ],
   "source": [
    "FuncionPotencia(Muestra_Aleatoria_Observada, med_hip_nul=0, alpha=0.05)"
   ]
  }
 ],
 "metadata": {
  "kernelspec": {
   "display_name": "Python 3",
   "language": "python",
   "name": "python3"
  },
  "language_info": {
   "codemirror_mode": {
    "name": "ipython",
    "version": 3
   },
   "file_extension": ".py",
   "mimetype": "text/x-python",
   "name": "python",
   "nbconvert_exporter": "python",
   "pygments_lexer": "ipython3",
   "version": "3.7.6"
  }
 },
 "nbformat": 4,
 "nbformat_minor": 4
}
