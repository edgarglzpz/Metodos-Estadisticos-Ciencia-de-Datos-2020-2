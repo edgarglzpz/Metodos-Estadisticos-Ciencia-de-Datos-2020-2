{
 "cells": [
  {
   "cell_type": "markdown",
   "metadata": {},
   "source": [
    "# Métodos Estadísticos\n",
    "## Tarea 1\n",
    "## Métodos Estadísticos. Ciencia de datos\n",
    "## González Paz Edgar"
   ]
  },
  {
   "cell_type": "markdown",
   "metadata": {},
   "source": [
    "### 1. Considere una muestra aleatoria $X_{1},...,X_{n}$ con función de densidad\n",
    "\n",
    "\\begin{equation}\n",
    "f(x| \\theta) = \\mathbb{1}_{ \\{ \\theta < x < \\theta +1 \\} }, \\theta \\in \\mathbb{R}\n",
    "\\end{equation}\n",
    "\n",
    "#### 1.1 Calcule un estimador para $ \\theta $ por el método de momentos y por el método de máxima verosimilitud, diga si estos son insesgados y suficientes para theta."
   ]
  },
  {
   "cell_type": "markdown",
   "metadata": {},
   "source": [
    "Primero calculamos la esperanza de nuestra función de densidad\n",
    "\n",
    "\\begin{equation}\n",
    "\\mathbb{E}(x) = \\int_{\\mathbb{R}} x f(x | \\theta) \\hspace{0.1cm} dx = \\int_{\\theta}^{\\theta +1} x \\hspace{0.1cm} dx = \\frac{x^2}{2} \\bigg|_{\\theta}^{\\theta + 1} = \\frac{ ( \\theta + 1 )^{2}}{2} - \\frac{ \\theta^{2}}{2} = \\frac{\\theta^{2} + 2\\theta +1 -\\theta^{2}}{2} = \\frac{2 \\theta +1}{2}\n",
    "\\end{equation}"
   ]
  },
  {
   "cell_type": "markdown",
   "metadata": {},
   "source": [
    "Entonces, igualamos el primer momento muestral a la esperanza para obtener el estimador de momentos:\n",
    "\\begin{equation}\n",
    "\\Rightarrow \\frac{2 \\theta +1}{2} = \\frac{1}{n} \\sum_{i=1}^{n} x_{i} \n",
    "\\end{equation}\n",
    "\n",
    "\\begin{equation}\n",
    "\\Rightarrow 2\\theta + 1 = \\frac{2}{n} \\sum_{i=1}^{n} x_{i}\n",
    "\\end{equation}\n",
    "\n",
    "\\begin{equation}\n",
    "\\Rightarrow 2\\theta = \\frac{2}{n} \\sum_{i=1}^{n} x_{i} -1 \n",
    "\\end{equation}\n",
    "\n",
    "\\begin{equation}\n",
    "\\Rightarrow \\hat{\\theta}_{MM} = \\frac{2\\bar{X} -1}{2}\n",
    "\\end{equation}"
   ]
  },
  {
   "cell_type": "markdown",
   "metadata": {},
   "source": [
    "Para el $\\hat{\\theta}_{MLE}$ obtenemos la función de verosimilitud del parámetro $\\theta$:\n",
    "\n",
    "\\begin{equation}\n",
    "L(\\theta | X) = \\prod_{i=1}^{n} f(x_{i} | \\theta ) = \\prod_{i=1}^{n} \\mathbb{1}_{ \\{ \\theta < x_{i} < \\theta +1 \\} } =\n",
    "\\prod_{i=1}^{n} \\mathbb{1}_{ \\{ \\theta < x_{i} \\} } \\prod_{i=1}^{n} \\mathbb{1}_{ \\{ x_{i} < \\theta +1 \\} } = \\mathbb{1}_{ \\{ X_{1}>\\theta \\} } \\mathbb{1}_{ \\{ X_{n} < \\theta +1 \\} } \n",
    "\\end{equation}\n",
    "\n",
    "\\begin{equation}\n",
    "= \\mathbb{1}_{ \\{ X_{1}>\\theta \\} } \\mathbb{1}_{ \\{ X_{n}-1 < \\theta \\}} = \\mathbb{1}_{ \\{ X_{(n)}-1 < \\theta < X_{(1)} \\} }\n",
    "\\end{equation}\n",
    "\n",
    "\\begin{equation}\n",
    "\\mathbb{1}_{ \\{ X_{(n)}-1 < \\theta < X_{(1)} \\} } = \\left\\{\n",
    "                \\begin{array}{ll}\n",
    "                  1, \\hspace{0.2cm} si \\hspace{0.2cm} X_{(n)}-1 \\leq \\theta \\leq X_{(1)} \\\\\n",
    "                  0, \\hspace{0.2cm} en \\hspace{0.2cm} cualquier \\hspace{0.2cm} otro \\hspace{0.2cm} caso\n",
    "                \\end{array}\n",
    "              \\right.\n",
    "              \\end{equation}"
   ]
  },
  {
   "cell_type": "markdown",
   "metadata": {},
   "source": [
    "No hay un estimador único de Máxima Verosimiltud, puede existir más de un estimador de $\\theta$ tal que cumpla:\n",
    "\n",
    "\\begin{equation}\n",
    "X_{(n)} -1 \\leq \\theta \\leq X_{(1)}\n",
    "\\end{equation}\n",
    "\n",
    "Es decir, aquellos que sean de la forma\n",
    "\\begin{equation}\n",
    "\\hat{\\theta}_{MLE}= w_{1}(X_{(n)} -1)+ w_{2}X_{(1)}\n",
    "\\end{equation}\n",
    "\n",
    "donde $w_{1}, w_{2} \\in \\mathbb{R}^{+}$, es decir, $w_{1}, w_{2} \\geq 0$ t.q. $w_{1}+w_{2} = 1$."
   ]
  },
  {
   "cell_type": "markdown",
   "metadata": {},
   "source": [
    "¿Son insesgados y suficientes para $\\theta$?\n",
    "\n",
    "Primero, probamos para el $\\hat{\\theta}_{MLE}$. Necesitamos obtener la esperanza de este estadístico.\n",
    "\n",
    "\\begin{equation}\n",
    "\\mathbb{E}(\\hat{\\theta}_{MLE})  = \\mathbb{E}(w_{1}(X_{(n)} -1)+ w_{2}X_{(n)}) = w1\\mathbb{E}(X_{(n)}) - \\mathbb{E}(w_{1}) + w_{2}\\mathbb{E}(X_{(n)})\n",
    "\\end{equation}\n",
    "\n",
    "Debemos obtener la esperanza del estadístico $X_{(n)}$. Sea $Y=X_{(n)}$\n",
    "\\begin{equation}\n",
    "\\mathbb{E}(X_{(n)}) = \\mathbb{E}(Y) \n",
    "=\\int_{\\mathbb{R}} y \\frac{n(y- \\theta)^{n-1}}{(\\theta + 1 - \\theta)^{n}} \\mathbb{1}_{ \\{ \\theta < y < \\theta +1 \\} } \\hspace{0.1cm} dy \n",
    "= n \\left( \\int_{\\theta}^{\\theta +1} y(y-\\theta)^{n-1} \\hspace{0.1cm} dy \\right)\n",
    "\\end{equation}\n",
    "\n",
    "Hacemos un cambio de variable. \n",
    "\n",
    "\\begin{equation}\n",
    "Sea \\hspace{0.1cm}  u= y - \\theta, \\hspace{0.1cm}  entonces \\hspace{0.1cm}  y= u + \\theta. Para \\hspace{0.1cm}  los \\hspace{0.1cm} límites, \\hspace{0.1cm} \\\\\n",
    "Si \\hspace{0.1cm}  y= \\theta \\rightarrow u=0, \\hspace{0.1cm} \\\\\n",
    "Si \\hspace{0.1cm} y= \\theta +1 \\rightarrow u=1\n",
    "\\end{equation}\n",
    "\n",
    "\\begin{equation}\n",
    "\\Rightarrow n \\left( \\int_{0}^{1} (u + \\theta)u^{n-1} \\hspace{0.1cm} du \\right)\n",
    "= n \\left( \\int_{0}^{1} u^{n} + \\theta u^{n-1} \\hspace{0.1cm} du \\right)\n",
    "= n \\left( \\int_{0}^{1} u^{n} \\hspace{0.1cm} du + \\theta \\int_{0}^{1} u^{n-1} \\hspace{0.1cm} du \\right)\n",
    "= n \\left( \\frac{u^{n+1}}{n+1} \\bigg|_{0}^{1} + \\theta \\frac{u^n}{n} \\bigg|_{0}^{1} \\right)\n",
    "= n \\left( \\frac{1}{n+1} + \\frac{ \\theta}{n} \\right)\n",
    "\\end{equation}\n",
    "\n",
    "\\begin{equation}\n",
    "= \\frac{n}{n+1} + \\theta^{n} \n",
    "= \\frac{n + \\theta(n+1)}{n+1}\n",
    "\\end{equation}"
   ]
  },
  {
   "cell_type": "markdown",
   "metadata": {},
   "source": [
    "También debemos obtener la esperanza del estadístico $X_{(1)}$. Sea $Y= X_{(1)}$\n",
    "\\begin{equation}\n",
    "\\Rightarrow \\mathbb{E}(X_{(1)}) = \\mathbb{E}(y) = \\int_{\\mathbb{R}} yn(\\theta+1-y)^{n-1} \\mathbb{1}_{ \\{ \\theta < y < \\theta +1 \\} } \\hspace{0.1cm} dy \n",
    "= n \\left( \\int_{\\theta}^{\\theta +1} y(\\theta +1 -y) \\hspace{0.1cm} dy \\right)\n",
    "\\end{equation}\n",
    "\n",
    "Hacemos un cambio de variable. \n",
    "\n",
    "\\begin{equation}\n",
    "Sea \\hspace{0.1cm}  u= \\theta +1 -y, \\hspace{0.1cm}  entonces \\hspace{0.1cm}  y= \\theta +1 -u. Para \\hspace{0.1cm}  los \\hspace{0.1cm} límites, \\hspace{0.1cm} \\\\\n",
    "Si \\hspace{0.1cm}  y= \\theta \\rightarrow u=1, \\hspace{0.1cm} \\\\\n",
    "Si \\hspace{0.1cm} y= \\theta +1 \\rightarrow u=0 \\\\\n",
    "dx = -du\n",
    "\\end{equation}\n",
    "\n",
    "\\begin{equation}\n",
    "= n \\left( \\int_{1}^{0} (\\theta +1-u) u^{n-1} \\hspace{0.1cm} -du \\right)\n",
    "= n \\left( \\int_{0}^{1} \\theta u^{n-1} \\hspace{0.1cm} du + \\int_{0}^{1} u^{n-1} \\hspace{0.1cm} du - \\int_{0}^{1} u^{n} \\hspace{0.1cm} du \\right)\n",
    "= n \\left( \\theta \\frac{u^{n}}{n} \\bigg|_{1}^{0} + \\frac{u^{n}}{n} \\bigg|_{1}^{0} - \\frac{u^{n+1}}{n+1} \\bigg|_{1}^{0} \\right)\n",
    "= n \\left( \\frac{\\theta}{n} + \\frac{1}{n} - \\frac{1}{n+1} \\right) \n",
    "\\end{equation}\n",
    "\n",
    "\\begin{equation}\n",
    "= \\theta +1 - \\frac{n}{n+1} \n",
    "= \\theta + \\frac{1}{n+1} \n",
    "\\end{equation}"
   ]
  },
  {
   "cell_type": "markdown",
   "metadata": {},
   "source": [
    "Retomando\n",
    "\\begin{equation}\n",
    "\\Rightarrow \\mathbb{E}(\\hat{\\theta}_{MLE})\n",
    "= w_{1} \\left( \\frac{n+ \\theta(n+1)}{n+1} \\right) - w_{1} + w_{2} \\left( \\theta + \\frac{1}{n+1} \\right) \\\\\n",
    "= w_{1} \\left( \\frac{n+ \\theta(n+1)}{n+1} -1 \\right) + w_{2} \\left( \\theta + \\frac{1}{n+1} \\right) \\\\\n",
    "\\end{equation}\n",
    "\n",
    "\\begin{equation}\n",
    "= w_{1} \\left( \\frac{n+ \\theta n + \\theta -n -1}{n+1} \\right) + w_{2} \\left( \\frac{\\theta n + \\theta +1}{n+1} \\right) \\\\\n",
    "= \\frac{w_{1}n\\theta + w_{1}\\theta -w_{1} + w_{2}n\\theta + w_{2}n\\theta + w_{2}\\theta +w_{2}}{n+1}\n",
    "\\end{equation}\n",
    "\n",
    "Entonces $ \\mathbb{E}(\\hat{\\theta}_{MLE}) = \\theta  \\iff w_{1}= \\frac{1}{2} \\hspace{0.1cm} w_{2} = \\frac{1}{2} $. Por lo tanto, un MLE insesgado sería\n",
    "\\begin{equation}\n",
    "\\hat{\\theta}_{MLE} = \\frac{X_{(n)} -1}{2}  + \\frac{X_{(1)}}{2}\n",
    "\\end{equation}"
   ]
  },
  {
   "cell_type": "markdown",
   "metadata": {},
   "source": [
    "Ahora bien, para $\\hat{\\theta}_{MM}$, tenemos que:\n",
    "\n",
    "\\begin{equation}\n",
    "\\mathbb{E}(\\hat{\\theta}_{MM}) \n",
    "= \\mathbb{E}\\left( \\frac{2\\bar{X}-1}{2} \\right)\n",
    "= \\mathbb{E}(\\bar{X}) - \\mathbb{E}(\\frac{1}{2})\n",
    "= \\frac{1}{n} \\sum_{i=1}^{n} \\mathbb{E}(x_{i}) - \\frac{1}{2}\n",
    "= \\frac{2 \\theta +1}{2} - \\frac{1}{2} = \\theta + \\frac{1}{2} - \\frac{1}{2} = \\theta\n",
    "\\end{equation}\n",
    "\n",
    "Por lo tanto, $\\hat{\\theta}_{MM}$ sí es insesgado."
   ]
  },
  {
   "cell_type": "markdown",
   "metadata": {},
   "source": [
    "#### Suficiencia\n",
    "\n",
    "Utilizamos el teorema del cociente del estadístico suficiente minimal para $\\theta$. Dado una función $T(\\mathrm{X})$ y para cualesquiera muestras observardas $\\mathrm{X},\\mathrm{Y}$, realizamos el cociente $\\frac{f(\\mathrm{X}| \\theta)}{f(\\mathrm{Y}| \\theta)}$, si no depende de $\\theta$ sii $T(\\mathrm{X})=T(\\mathrm{Y})$ entonces $T(\\mathrm{X})$ es suficiente minimal para $\\theta$.\n",
    "\n",
    "\\begin{equation}\n",
    "\\frac{f(\\mathrm{X}| \\theta)}{f(\\mathrm{Y}| \\theta)} = \\frac{\\mathbb{1}_{ \\{ X_{(n)}-1 < \\theta < X_{(1)} \\} }}{\\mathbb{1}_{ \\{ Y_{(n)}-1 < \\theta < Y_{(1)} \\} }}\n",
    "\\end{equation}\n",
    "\n",
    "¿Qué valores puede tomar el numerador y el denominador?\n",
    "\n",
    "\\begin{equation}\n",
    "\\mathbb{1}_{ \\{ X_{(n)}-1 < \\theta < X_{(1)} \\} } = \\left\\{\n",
    "                \\begin{array}{ll}\n",
    "                  1, \\hspace{0.2cm} si \\hspace{0.2cm} \\theta \\in (X_{(n)}-1,X_{(1)}) \\\\\n",
    "                  0, \\hspace{0.2cm} en \\hspace{0.2cm} \\theta \\notin (X_{(n)}-1,X_{(1)})\n",
    "                \\end{array}\n",
    "              \\right.\n",
    "              \\end{equation}\n",
    "              \n",
    "\\begin{equation}\n",
    "\\mathbb{1}_{ \\{ Y_{(n)}-1 < \\theta < Y_{(1)} \\} } = \\left\\{\n",
    "                \\begin{array}{ll}\n",
    "                  1, \\hspace{0.2cm} si \\hspace{0.2cm} \\theta \\in (Y_{(n)}-1,Y_{(1)}) \\\\\n",
    "                  0, \\hspace{0.2cm} en \\hspace{0.2cm} \\theta \\notin (Y_{(n)}-1,Y_{(1)})\n",
    "                \\end{array}\n",
    "              \\right.\n",
    "              \\end{equation}\n",
    " \n",
    "Tenemos dos casos, (omitimos $f(\\mathrm{Y}| \\theta)=0$ en el denominador porque es una indeterminación, sin embargo, no dependería de $\\theta$)\n",
    "\n",
    "\n",
    "\\begin{equation}\n",
    "\\frac{f(\\mathrm{X}| \\theta)}{f(\\mathrm{Y}| \\theta)} = 1 \\Leftrightarrow  \\theta \\in (X_{(n)}-1,X_{(1)}), \\theta \\notin (Y_{(n)}-1,Y_{(1)})\n",
    "\\end{equation}\n",
    "\n",
    "\\begin{equation}\n",
    "\\frac{f(\\mathrm{X}| \\theta)}{f(\\mathrm{Y}| \\theta)} = 0 \\Leftrightarrow  \\theta \\notin (X_{(n)}-1,X_{(1)}), \\theta \\in (Y_{(n)}-1,Y_{(1)})\n",
    "\\end{equation}\n",
    "\n",
    "El cociente no depende de $\\theta$ sii\n",
    "\n",
    "\\begin{equation}\n",
    "(X_{(n)}-1,X_{(1)})=(Y_{(n)}-1,Y_{(1)})\n",
    "\\end{equation}\n",
    "\n",
    "\n",
    "\\begin{equation}\n",
    "\\Rightarrow X_{(n)}-1=Y_{(n)}-1 \\Rightarrow X_{(n)}=Y_{(n)} \\wedge X_{(1)}=Y_{(1)}\n",
    "\\end{equation}\n",
    "\n",
    "$ \\Rightarrow$ El vector de estadísticos $(X_{(n)},X_{(1)})$ son los únicos estimadores suficientes minimales."
   ]
  },
  {
   "cell_type": "code",
   "execution_count": 1,
   "metadata": {},
   "outputs": [],
   "source": [
    "#Código para cargar el conjutno de datos, calcular los estimadores y realizar las gráficas."
   ]
  },
  {
   "cell_type": "code",
   "execution_count": 2,
   "metadata": {},
   "outputs": [],
   "source": [
    "import pandas as pd\n",
    "import numpy as np\n",
    "import matplotlib.pyplot as plt\n",
    "%matplotlib inline\n",
    "import pylab"
   ]
  },
  {
   "cell_type": "code",
   "execution_count": 3,
   "metadata": {},
   "outputs": [],
   "source": [
    "datos1 = pd.read_csv('dataEj1.txt')"
   ]
  },
  {
   "cell_type": "code",
   "execution_count": 4,
   "metadata": {},
   "outputs": [
    {
     "data": {
      "text/html": [
       "<div>\n",
       "<style scoped>\n",
       "    .dataframe tbody tr th:only-of-type {\n",
       "        vertical-align: middle;\n",
       "    }\n",
       "\n",
       "    .dataframe tbody tr th {\n",
       "        vertical-align: top;\n",
       "    }\n",
       "\n",
       "    .dataframe thead th {\n",
       "        text-align: right;\n",
       "    }\n",
       "</style>\n",
       "<table border=\"1\" class=\"dataframe\">\n",
       "  <thead>\n",
       "    <tr style=\"text-align: right;\">\n",
       "      <th></th>\n",
       "      <th>x</th>\n",
       "    </tr>\n",
       "  </thead>\n",
       "  <tbody>\n",
       "    <tr>\n",
       "      <th>0</th>\n",
       "      <td>0.257329</td>\n",
       "    </tr>\n",
       "    <tr>\n",
       "      <th>1</th>\n",
       "      <td>-0.111362</td>\n",
       "    </tr>\n",
       "    <tr>\n",
       "      <th>2</th>\n",
       "      <td>0.376463</td>\n",
       "    </tr>\n",
       "    <tr>\n",
       "      <th>3</th>\n",
       "      <td>-0.002884</td>\n",
       "    </tr>\n",
       "    <tr>\n",
       "      <th>4</th>\n",
       "      <td>-0.229582</td>\n",
       "    </tr>\n",
       "  </tbody>\n",
       "</table>\n",
       "</div>"
      ],
      "text/plain": [
       "          x\n",
       "0  0.257329\n",
       "1 -0.111362\n",
       "2  0.376463\n",
       "3 -0.002884\n",
       "4 -0.229582"
      ]
     },
     "execution_count": 4,
     "metadata": {},
     "output_type": "execute_result"
    }
   ],
   "source": [
    "datos1.head()"
   ]
  },
  {
   "cell_type": "code",
   "execution_count": 5,
   "metadata": {},
   "outputs": [],
   "source": [
    "MuestraAleatoria1 = np.asarray(datos1['x'].values.tolist())"
   ]
  },
  {
   "cell_type": "code",
   "execution_count": 6,
   "metadata": {},
   "outputs": [],
   "source": [
    "#Función de densidad Uniforme\n",
    "def Uniforme(x,a,b):\n",
    "    if a<x<b:\n",
    "        r= 1/(b-a)\n",
    "    else:\n",
    "        r = 0\n",
    "    return r\n",
    "#Estimador por el método de momentos\n",
    "def ThetaMM(X):\n",
    "    n= len(X)\n",
    "    Promedio = sum(X[i] for i in range(n))\n",
    "    Xbarra = (1/n)*Promedio\n",
    "    return (2*Xbarra - 1)/2\n",
    "#Estimador de Máxima Verosimilitud\n",
    "def ThetaMLE(X,w1,w2):\n",
    "    Xn = max(X)\n",
    "    X1 = min(X)\n",
    "    if w1>=0 and w2 >=0 and (w1+w2==1):\n",
    "        ThetaMLE = w1*(Xn-1)+w2*(X1)\n",
    "    return ThetaMLE"
   ]
  },
  {
   "cell_type": "markdown",
   "metadata": {},
   "source": [
    "### 1.2 Con ayuda de la muestra aleatoria observada, dataEj1.txt , calcule la estimaciones en ambos casos y quédese con alguna de las dos, justificando su respuesta."
   ]
  },
  {
   "cell_type": "markdown",
   "metadata": {},
   "source": [
    "Posibles estimadores a elegir:"
   ]
  },
  {
   "cell_type": "code",
   "execution_count": 7,
   "metadata": {},
   "outputs": [
    {
     "data": {
      "text/plain": [
       "-0.498538219173369"
      ]
     },
     "execution_count": 7,
     "metadata": {},
     "output_type": "execute_result"
    }
   ],
   "source": [
    "ThetaMM(MuestraAleatoria1)"
   ]
  },
  {
   "cell_type": "code",
   "execution_count": 8,
   "metadata": {},
   "outputs": [
    {
     "data": {
      "text/plain": [
       "-0.499965088092722"
      ]
     },
     "execution_count": 8,
     "metadata": {},
     "output_type": "execute_result"
    }
   ],
   "source": [
    "ThetaMLE(MuestraAleatoria1,0.5,0.5)"
   ]
  },
  {
   "cell_type": "code",
   "execution_count": 9,
   "metadata": {},
   "outputs": [
    {
     "data": {
      "text/plain": [
       "-0.499822691315785"
      ]
     },
     "execution_count": 9,
     "metadata": {},
     "output_type": "execute_result"
    }
   ],
   "source": [
    "min(MuestraAleatoria1)"
   ]
  },
  {
   "cell_type": "code",
   "execution_count": 10,
   "metadata": {},
   "outputs": [
    {
     "data": {
      "text/plain": [
       "-0.500107484869659"
      ]
     },
     "execution_count": 10,
     "metadata": {},
     "output_type": "execute_result"
    }
   ],
   "source": [
    "max(MuestraAleatoria1)-1"
   ]
  },
  {
   "cell_type": "markdown",
   "metadata": {},
   "source": [
    "En este caso, tomaremos la segunda estimación $\\hat{\\theta}_{MLE}$ porque es insesgado y (no estoy seguro aquí) es función de los estadísticos suficientes minimales."
   ]
  },
  {
   "cell_type": "markdown",
   "metadata": {},
   "source": [
    "### 1.3 Finalmente haga un histograma (recuerdo normalizarlo) con los datos y encime la función de densidad $f(x|\\hat{\\theta})$, con $\\hat{\\theta}$ la estimación elegida del inciso anterior."
   ]
  },
  {
   "cell_type": "code",
   "execution_count": 11,
   "metadata": {
    "scrolled": true
   },
   "outputs": [
    {
     "data": {
      "image/png": "[encoded data removed]",
      "text/plain": [
       "<Figure size 864x360 with 2 Axes>"
      ]
     },
     "metadata": {
      "needs_background": "light"
     },
     "output_type": "display_data"
    }
   ],
   "source": [
    "Dominio=np.arange(min(MuestraAleatoria1)-0.1,max(MuestraAleatoria1)+0.1,0.01)\n",
    "Rango=[]\n",
    "for i in range(len(Dominio)):\n",
    "        Rango.append(Uniforme(a=ThetaMLE(MuestraAleatoria1,0.5,0.5), b=ThetaMLE(MuestraAleatoria1,0.5,0.5) +1 ,x=Dominio[i]))\n",
    "fig, (ax1, ax2) = plt.subplots(1,2, figsize=[12,5])\n",
    "ax1.hist(MuestraAleatoria1,density=True)\n",
    "ax1.title.set_text('Histograma de datos')\n",
    "ax2.hist(MuestraAleatoria1,density=True)\n",
    "ax2.plot(Dominio,Rango)\n",
    "ax2.title.set_text('Histograma de datos con '+ r'$f(x|\\hat{\\theta})$')\n",
    "plt.show()"
   ]
  }
 ],
 "metadata": {
  "kernelspec": {
   "display_name": "Python 3",
   "language": "python",
   "name": "python3"
  },
  "language_info": {
   "codemirror_mode": {
    "name": "ipython",
    "version": 3
   },
   "file_extension": ".py",
   "mimetype": "text/x-python",
   "name": "python",
   "nbconvert_exporter": "python",
   "pygments_lexer": "ipython3",
   "version": "3.7.6"
  }
 },
 "nbformat": 4,
 "nbformat_minor": 2
}
